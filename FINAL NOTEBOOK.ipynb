{
 "cells": [
  {
   "cell_type": "code",
   "execution_count": 50,
   "metadata": {},
   "outputs": [],
   "source": [
    "# IMPORTING THE LIBRARIES\n",
    "import optuna\n",
    "import pandas as pd\n",
    "import numpy as np\n",
    "import xgboost as xgb\n",
    "from numpy import mean\n",
    "from numpy import std\n",
    "from sklearn.datasets import make_classification\n",
    "from sklearn.model_selection import cross_val_score\n",
    "from sklearn.model_selection import RepeatedStratifiedKFold\n",
    "from sklearn.pipeline import Pipeline\n",
    "from sklearn.linear_model import LogisticRegression\n",
    "from sklearn.metrics import roc_auc_score\n",
    "from sklearn.ensemble import RandomForestClassifier\n",
    "from sklearn.model_selection import GridSearchCV, train_test_split\n",
    "from xgboost import XGBClassifier\n",
    "from xgboost import plot_importance\n",
    "import plotly.express as px\n",
    "import matplotlib.pyplot as plt\n"
   ]
  },
  {
   "attachments": {},
   "cell_type": "markdown",
   "metadata": {},
   "source": [
    "# 1 Exploratory Data Analysis"
   ]
  },
  {
   "attachments": {},
   "cell_type": "markdown",
   "metadata": {},
   "source": [
    "#### In this part we will explore the data and understand the different variables"
   ]
  },
  {
   "cell_type": "code",
   "execution_count": 51,
   "metadata": {},
   "outputs": [],
   "source": [
    "insp = pd.read_csv(\"inspections.csv\")\n",
    "network = pd.read_csv(\"network.csv\")\n",
    "samplesub = pd.read_csv(\"sample_submission.csv\")"
   ]
  },
  {
   "cell_type": "code",
   "execution_count": 52,
   "metadata": {},
   "outputs": [
    {
     "data": {
      "text/html": [
       "<div>\n",
       "<style scoped>\n",
       "    .dataframe tbody tr th:only-of-type {\n",
       "        vertical-align: middle;\n",
       "    }\n",
       "\n",
       "    .dataframe tbody tr th {\n",
       "        vertical-align: top;\n",
       "    }\n",
       "\n",
       "    .dataframe thead th {\n",
       "        text-align: right;\n",
       "    }\n",
       "</style>\n",
       "<table border=\"1\" class=\"dataframe\">\n",
       "  <thead>\n",
       "    <tr style=\"text-align: right;\">\n",
       "      <th></th>\n",
       "      <th>YearBuilt</th>\n",
       "      <th>Diameter</th>\n",
       "      <th>Length</th>\n",
       "      <th>Pressure</th>\n",
       "      <th>NumConnections</th>\n",
       "      <th>NumConnectionsUnder</th>\n",
       "    </tr>\n",
       "  </thead>\n",
       "  <tbody>\n",
       "    <tr>\n",
       "      <th>0</th>\n",
       "      <td>2012</td>\n",
       "      <td>110.0</td>\n",
       "      <td>44.286</td>\n",
       "      <td>0.150</td>\n",
       "      <td>0</td>\n",
       "      <td>0</td>\n",
       "    </tr>\n",
       "    <tr>\n",
       "      <th>1</th>\n",
       "      <td>2012</td>\n",
       "      <td>160.0</td>\n",
       "      <td>110.715</td>\n",
       "      <td>0.150</td>\n",
       "      <td>2</td>\n",
       "      <td>0</td>\n",
       "    </tr>\n",
       "    <tr>\n",
       "      <th>2</th>\n",
       "      <td>2012</td>\n",
       "      <td>110.0</td>\n",
       "      <td>13.575</td>\n",
       "      <td>0.150</td>\n",
       "      <td>0</td>\n",
       "      <td>0</td>\n",
       "    </tr>\n",
       "    <tr>\n",
       "      <th>3</th>\n",
       "      <td>2012</td>\n",
       "      <td>110.0</td>\n",
       "      <td>327.689</td>\n",
       "      <td>0.150</td>\n",
       "      <td>3</td>\n",
       "      <td>0</td>\n",
       "    </tr>\n",
       "    <tr>\n",
       "      <th>4</th>\n",
       "      <td>2007</td>\n",
       "      <td>200.0</td>\n",
       "      <td>932.762</td>\n",
       "      <td>0.150</td>\n",
       "      <td>0</td>\n",
       "      <td>0</td>\n",
       "    </tr>\n",
       "    <tr>\n",
       "      <th>...</th>\n",
       "      <td>...</td>\n",
       "      <td>...</td>\n",
       "      <td>...</td>\n",
       "      <td>...</td>\n",
       "      <td>...</td>\n",
       "      <td>...</td>\n",
       "    </tr>\n",
       "    <tr>\n",
       "      <th>909728</th>\n",
       "      <td>2004</td>\n",
       "      <td>110.0</td>\n",
       "      <td>7.656</td>\n",
       "      <td>0.025</td>\n",
       "      <td>0</td>\n",
       "      <td>0</td>\n",
       "    </tr>\n",
       "    <tr>\n",
       "      <th>909729</th>\n",
       "      <td>2004</td>\n",
       "      <td>110.0</td>\n",
       "      <td>4.383</td>\n",
       "      <td>0.025</td>\n",
       "      <td>2</td>\n",
       "      <td>0</td>\n",
       "    </tr>\n",
       "    <tr>\n",
       "      <th>909730</th>\n",
       "      <td>2004</td>\n",
       "      <td>110.0</td>\n",
       "      <td>2.292</td>\n",
       "      <td>0.025</td>\n",
       "      <td>1</td>\n",
       "      <td>0</td>\n",
       "    </tr>\n",
       "    <tr>\n",
       "      <th>909731</th>\n",
       "      <td>2004</td>\n",
       "      <td>90.0</td>\n",
       "      <td>87.809</td>\n",
       "      <td>4.000</td>\n",
       "      <td>0</td>\n",
       "      <td>0</td>\n",
       "    </tr>\n",
       "    <tr>\n",
       "      <th>909732</th>\n",
       "      <td>2004</td>\n",
       "      <td>160.0</td>\n",
       "      <td>2.325</td>\n",
       "      <td>4.000</td>\n",
       "      <td>0</td>\n",
       "      <td>0</td>\n",
       "    </tr>\n",
       "  </tbody>\n",
       "</table>\n",
       "<p>909733 rows × 6 columns</p>\n",
       "</div>"
      ],
      "text/plain": [
       "        YearBuilt  Diameter   Length  Pressure  NumConnections  \\\n",
       "0            2012     110.0   44.286     0.150               0   \n",
       "1            2012     160.0  110.715     0.150               2   \n",
       "2            2012     110.0   13.575     0.150               0   \n",
       "3            2012     110.0  327.689     0.150               3   \n",
       "4            2007     200.0  932.762     0.150               0   \n",
       "...           ...       ...      ...       ...             ...   \n",
       "909728       2004     110.0    7.656     0.025               0   \n",
       "909729       2004     110.0    4.383     0.025               2   \n",
       "909730       2004     110.0    2.292     0.025               1   \n",
       "909731       2004      90.0   87.809     4.000               0   \n",
       "909732       2004     160.0    2.325     4.000               0   \n",
       "\n",
       "        NumConnectionsUnder  \n",
       "0                         0  \n",
       "1                         0  \n",
       "2                         0  \n",
       "3                         0  \n",
       "4                         0  \n",
       "...                     ...  \n",
       "909728                    0  \n",
       "909729                    0  \n",
       "909730                    0  \n",
       "909731                    0  \n",
       "909732                    0  \n",
       "\n",
       "[909733 rows x 6 columns]"
      ]
     },
     "execution_count": 52,
     "metadata": {},
     "output_type": "execute_result"
    }
   ],
   "source": [
    "finalsub = samplesub.merge(network, how='inner', on='PipeId')\n",
    "finalsub\n",
    "keep_columns_sub = ['YearBuilt', 'Diameter', 'Length', 'Pressure', 'NumConnections', 'NumConnectionsUnder']\n",
    "finalsub_simple = finalsub[keep_columns_sub]\n",
    "finalsub_simple"
   ]
  },
  {
   "cell_type": "code",
   "execution_count": 53,
   "metadata": {},
   "outputs": [
    {
     "data": {
      "application/vnd.plotly.v1+json": {
       "config": {
        "plotlyServerURL": "https://plot.ly"
       },
       "data": [
        {
         "alignmentgroup": "True",
         "hovertemplate": "index=%{x}<br>Count=%{y}<extra></extra>",
         "legendgroup": "",
         "marker": {
          "color": "#636efa",
          "pattern": {
           "shape": ""
          }
         },
         "name": "",
         "offsetgroup": "",
         "orientation": "v",
         "showlegend": false,
         "textposition": "auto",
         "type": "bar",
         "x": [
          "PE",
          "AO",
          "FD",
          "PN",
          "CU",
          "ZD",
          "FG",
          "PA",
          "FI",
          "PV",
          "FO"
         ],
         "xaxis": "x",
         "y": [
          1242845,
          128713,
          44592,
          20928,
          6945,
          2451,
          22,
          14,
          13,
          12,
          4
         ],
         "yaxis": "y"
        }
       ],
       "layout": {
        "barmode": "relative",
        "legend": {
         "tracegroupgap": 0
        },
        "margin": {
         "t": 60
        },
        "template": {
         "data": {
          "bar": [
           {
            "error_x": {
             "color": "#2a3f5f"
            },
            "error_y": {
             "color": "#2a3f5f"
            },
            "marker": {
             "line": {
              "color": "#E5ECF6",
              "width": 0.5
             },
             "pattern": {
              "fillmode": "overlay",
              "size": 10,
              "solidity": 0.2
             }
            },
            "type": "bar"
           }
          ],
          "barpolar": [
           {
            "marker": {
             "line": {
              "color": "#E5ECF6",
              "width": 0.5
             },
             "pattern": {
              "fillmode": "overlay",
              "size": 10,
              "solidity": 0.2
             }
            },
            "type": "barpolar"
           }
          ],
          "carpet": [
           {
            "aaxis": {
             "endlinecolor": "#2a3f5f",
             "gridcolor": "white",
             "linecolor": "white",
             "minorgridcolor": "white",
             "startlinecolor": "#2a3f5f"
            },
            "baxis": {
             "endlinecolor": "#2a3f5f",
             "gridcolor": "white",
             "linecolor": "white",
             "minorgridcolor": "white",
             "startlinecolor": "#2a3f5f"
            },
            "type": "carpet"
           }
          ],
          "choropleth": [
           {
            "colorbar": {
             "outlinewidth": 0,
             "ticks": ""
            },
            "type": "choropleth"
           }
          ],
          "contour": [
           {
            "colorbar": {
             "outlinewidth": 0,
             "ticks": ""
            },
            "colorscale": [
             [
              0,
              "#0d0887"
             ],
             [
              0.1111111111111111,
              "#46039f"
             ],
             [
              0.2222222222222222,
              "#7201a8"
             ],
             [
              0.3333333333333333,
              "#9c179e"
             ],
             [
              0.4444444444444444,
              "#bd3786"
             ],
             [
              0.5555555555555556,
              "#d8576b"
             ],
             [
              0.6666666666666666,
              "#ed7953"
             ],
             [
              0.7777777777777778,
              "#fb9f3a"
             ],
             [
              0.8888888888888888,
              "#fdca26"
             ],
             [
              1,
              "#f0f921"
             ]
            ],
            "type": "contour"
           }
          ],
          "contourcarpet": [
           {
            "colorbar": {
             "outlinewidth": 0,
             "ticks": ""
            },
            "type": "contourcarpet"
           }
          ],
          "heatmap": [
           {
            "colorbar": {
             "outlinewidth": 0,
             "ticks": ""
            },
            "colorscale": [
             [
              0,
              "#0d0887"
             ],
             [
              0.1111111111111111,
              "#46039f"
             ],
             [
              0.2222222222222222,
              "#7201a8"
             ],
             [
              0.3333333333333333,
              "#9c179e"
             ],
             [
              0.4444444444444444,
              "#bd3786"
             ],
             [
              0.5555555555555556,
              "#d8576b"
             ],
             [
              0.6666666666666666,
              "#ed7953"
             ],
             [
              0.7777777777777778,
              "#fb9f3a"
             ],
             [
              0.8888888888888888,
              "#fdca26"
             ],
             [
              1,
              "#f0f921"
             ]
            ],
            "type": "heatmap"
           }
          ],
          "heatmapgl": [
           {
            "colorbar": {
             "outlinewidth": 0,
             "ticks": ""
            },
            "colorscale": [
             [
              0,
              "#0d0887"
             ],
             [
              0.1111111111111111,
              "#46039f"
             ],
             [
              0.2222222222222222,
              "#7201a8"
             ],
             [
              0.3333333333333333,
              "#9c179e"
             ],
             [
              0.4444444444444444,
              "#bd3786"
             ],
             [
              0.5555555555555556,
              "#d8576b"
             ],
             [
              0.6666666666666666,
              "#ed7953"
             ],
             [
              0.7777777777777778,
              "#fb9f3a"
             ],
             [
              0.8888888888888888,
              "#fdca26"
             ],
             [
              1,
              "#f0f921"
             ]
            ],
            "type": "heatmapgl"
           }
          ],
          "histogram": [
           {
            "marker": {
             "pattern": {
              "fillmode": "overlay",
              "size": 10,
              "solidity": 0.2
             }
            },
            "type": "histogram"
           }
          ],
          "histogram2d": [
           {
            "colorbar": {
             "outlinewidth": 0,
             "ticks": ""
            },
            "colorscale": [
             [
              0,
              "#0d0887"
             ],
             [
              0.1111111111111111,
              "#46039f"
             ],
             [
              0.2222222222222222,
              "#7201a8"
             ],
             [
              0.3333333333333333,
              "#9c179e"
             ],
             [
              0.4444444444444444,
              "#bd3786"
             ],
             [
              0.5555555555555556,
              "#d8576b"
             ],
             [
              0.6666666666666666,
              "#ed7953"
             ],
             [
              0.7777777777777778,
              "#fb9f3a"
             ],
             [
              0.8888888888888888,
              "#fdca26"
             ],
             [
              1,
              "#f0f921"
             ]
            ],
            "type": "histogram2d"
           }
          ],
          "histogram2dcontour": [
           {
            "colorbar": {
             "outlinewidth": 0,
             "ticks": ""
            },
            "colorscale": [
             [
              0,
              "#0d0887"
             ],
             [
              0.1111111111111111,
              "#46039f"
             ],
             [
              0.2222222222222222,
              "#7201a8"
             ],
             [
              0.3333333333333333,
              "#9c179e"
             ],
             [
              0.4444444444444444,
              "#bd3786"
             ],
             [
              0.5555555555555556,
              "#d8576b"
             ],
             [
              0.6666666666666666,
              "#ed7953"
             ],
             [
              0.7777777777777778,
              "#fb9f3a"
             ],
             [
              0.8888888888888888,
              "#fdca26"
             ],
             [
              1,
              "#f0f921"
             ]
            ],
            "type": "histogram2dcontour"
           }
          ],
          "mesh3d": [
           {
            "colorbar": {
             "outlinewidth": 0,
             "ticks": ""
            },
            "type": "mesh3d"
           }
          ],
          "parcoords": [
           {
            "line": {
             "colorbar": {
              "outlinewidth": 0,
              "ticks": ""
             }
            },
            "type": "parcoords"
           }
          ],
          "pie": [
           {
            "automargin": true,
            "type": "pie"
           }
          ],
          "scatter": [
           {
            "fillpattern": {
             "fillmode": "overlay",
             "size": 10,
             "solidity": 0.2
            },
            "type": "scatter"
           }
          ],
          "scatter3d": [
           {
            "line": {
             "colorbar": {
              "outlinewidth": 0,
              "ticks": ""
             }
            },
            "marker": {
             "colorbar": {
              "outlinewidth": 0,
              "ticks": ""
             }
            },
            "type": "scatter3d"
           }
          ],
          "scattercarpet": [
           {
            "marker": {
             "colorbar": {
              "outlinewidth": 0,
              "ticks": ""
             }
            },
            "type": "scattercarpet"
           }
          ],
          "scattergeo": [
           {
            "marker": {
             "colorbar": {
              "outlinewidth": 0,
              "ticks": ""
             }
            },
            "type": "scattergeo"
           }
          ],
          "scattergl": [
           {
            "marker": {
             "colorbar": {
              "outlinewidth": 0,
              "ticks": ""
             }
            },
            "type": "scattergl"
           }
          ],
          "scattermapbox": [
           {
            "marker": {
             "colorbar": {
              "outlinewidth": 0,
              "ticks": ""
             }
            },
            "type": "scattermapbox"
           }
          ],
          "scatterpolar": [
           {
            "marker": {
             "colorbar": {
              "outlinewidth": 0,
              "ticks": ""
             }
            },
            "type": "scatterpolar"
           }
          ],
          "scatterpolargl": [
           {
            "marker": {
             "colorbar": {
              "outlinewidth": 0,
              "ticks": ""
             }
            },
            "type": "scatterpolargl"
           }
          ],
          "scatterternary": [
           {
            "marker": {
             "colorbar": {
              "outlinewidth": 0,
              "ticks": ""
             }
            },
            "type": "scatterternary"
           }
          ],
          "surface": [
           {
            "colorbar": {
             "outlinewidth": 0,
             "ticks": ""
            },
            "colorscale": [
             [
              0,
              "#0d0887"
             ],
             [
              0.1111111111111111,
              "#46039f"
             ],
             [
              0.2222222222222222,
              "#7201a8"
             ],
             [
              0.3333333333333333,
              "#9c179e"
             ],
             [
              0.4444444444444444,
              "#bd3786"
             ],
             [
              0.5555555555555556,
              "#d8576b"
             ],
             [
              0.6666666666666666,
              "#ed7953"
             ],
             [
              0.7777777777777778,
              "#fb9f3a"
             ],
             [
              0.8888888888888888,
              "#fdca26"
             ],
             [
              1,
              "#f0f921"
             ]
            ],
            "type": "surface"
           }
          ],
          "table": [
           {
            "cells": {
             "fill": {
              "color": "#EBF0F8"
             },
             "line": {
              "color": "white"
             }
            },
            "header": {
             "fill": {
              "color": "#C8D4E3"
             },
             "line": {
              "color": "white"
             }
            },
            "type": "table"
           }
          ]
         },
         "layout": {
          "annotationdefaults": {
           "arrowcolor": "#2a3f5f",
           "arrowhead": 0,
           "arrowwidth": 1
          },
          "autotypenumbers": "strict",
          "coloraxis": {
           "colorbar": {
            "outlinewidth": 0,
            "ticks": ""
           }
          },
          "colorscale": {
           "diverging": [
            [
             0,
             "#8e0152"
            ],
            [
             0.1,
             "#c51b7d"
            ],
            [
             0.2,
             "#de77ae"
            ],
            [
             0.3,
             "#f1b6da"
            ],
            [
             0.4,
             "#fde0ef"
            ],
            [
             0.5,
             "#f7f7f7"
            ],
            [
             0.6,
             "#e6f5d0"
            ],
            [
             0.7,
             "#b8e186"
            ],
            [
             0.8,
             "#7fbc41"
            ],
            [
             0.9,
             "#4d9221"
            ],
            [
             1,
             "#276419"
            ]
           ],
           "sequential": [
            [
             0,
             "#0d0887"
            ],
            [
             0.1111111111111111,
             "#46039f"
            ],
            [
             0.2222222222222222,
             "#7201a8"
            ],
            [
             0.3333333333333333,
             "#9c179e"
            ],
            [
             0.4444444444444444,
             "#bd3786"
            ],
            [
             0.5555555555555556,
             "#d8576b"
            ],
            [
             0.6666666666666666,
             "#ed7953"
            ],
            [
             0.7777777777777778,
             "#fb9f3a"
            ],
            [
             0.8888888888888888,
             "#fdca26"
            ],
            [
             1,
             "#f0f921"
            ]
           ],
           "sequentialminus": [
            [
             0,
             "#0d0887"
            ],
            [
             0.1111111111111111,
             "#46039f"
            ],
            [
             0.2222222222222222,
             "#7201a8"
            ],
            [
             0.3333333333333333,
             "#9c179e"
            ],
            [
             0.4444444444444444,
             "#bd3786"
            ],
            [
             0.5555555555555556,
             "#d8576b"
            ],
            [
             0.6666666666666666,
             "#ed7953"
            ],
            [
             0.7777777777777778,
             "#fb9f3a"
            ],
            [
             0.8888888888888888,
             "#fdca26"
            ],
            [
             1,
             "#f0f921"
            ]
           ]
          },
          "colorway": [
           "#636efa",
           "#EF553B",
           "#00cc96",
           "#ab63fa",
           "#FFA15A",
           "#19d3f3",
           "#FF6692",
           "#B6E880",
           "#FF97FF",
           "#FECB52"
          ],
          "font": {
           "color": "#2a3f5f"
          },
          "geo": {
           "bgcolor": "white",
           "lakecolor": "white",
           "landcolor": "#E5ECF6",
           "showlakes": true,
           "showland": true,
           "subunitcolor": "white"
          },
          "hoverlabel": {
           "align": "left"
          },
          "hovermode": "closest",
          "mapbox": {
           "style": "light"
          },
          "paper_bgcolor": "white",
          "plot_bgcolor": "#E5ECF6",
          "polar": {
           "angularaxis": {
            "gridcolor": "white",
            "linecolor": "white",
            "ticks": ""
           },
           "bgcolor": "#E5ECF6",
           "radialaxis": {
            "gridcolor": "white",
            "linecolor": "white",
            "ticks": ""
           }
          },
          "scene": {
           "xaxis": {
            "backgroundcolor": "#E5ECF6",
            "gridcolor": "white",
            "gridwidth": 2,
            "linecolor": "white",
            "showbackground": true,
            "ticks": "",
            "zerolinecolor": "white"
           },
           "yaxis": {
            "backgroundcolor": "#E5ECF6",
            "gridcolor": "white",
            "gridwidth": 2,
            "linecolor": "white",
            "showbackground": true,
            "ticks": "",
            "zerolinecolor": "white"
           },
           "zaxis": {
            "backgroundcolor": "#E5ECF6",
            "gridcolor": "white",
            "gridwidth": 2,
            "linecolor": "white",
            "showbackground": true,
            "ticks": "",
            "zerolinecolor": "white"
           }
          },
          "shapedefaults": {
           "line": {
            "color": "#2a3f5f"
           }
          },
          "ternary": {
           "aaxis": {
            "gridcolor": "white",
            "linecolor": "white",
            "ticks": ""
           },
           "baxis": {
            "gridcolor": "white",
            "linecolor": "white",
            "ticks": ""
           },
           "bgcolor": "#E5ECF6",
           "caxis": {
            "gridcolor": "white",
            "linecolor": "white",
            "ticks": ""
           }
          },
          "title": {
           "x": 0.05
          },
          "xaxis": {
           "automargin": true,
           "gridcolor": "white",
           "linecolor": "white",
           "ticks": "",
           "title": {
            "standoff": 15
           },
           "zerolinecolor": "white",
           "zerolinewidth": 2
          },
          "yaxis": {
           "automargin": true,
           "gridcolor": "white",
           "linecolor": "white",
           "ticks": "",
           "title": {
            "standoff": 15
           },
           "zerolinecolor": "white",
           "zerolinewidth": 2
          }
         }
        },
        "xaxis": {
         "anchor": "y",
         "domain": [
          0,
          1
         ],
         "title": {
          "text": "index"
         }
        },
        "yaxis": {
         "anchor": "x",
         "domain": [
          0,
          1
         ],
         "title": {
          "text": "Count"
         }
        }
       }
      }
     },
     "metadata": {},
     "output_type": "display_data"
    }
   ],
   "source": [
    "counts = network[\"Material\"].value_counts()\n",
    "fig = px.bar(counts, x=counts.index, y=counts.values, labels={\"x\": \"Value\", \"y\": \"Count\"})\n",
    "fig.show()"
   ]
  },
  {
   "cell_type": "code",
   "execution_count": 54,
   "metadata": {},
   "outputs": [
    {
     "data": {
      "text/html": [
       "<div>\n",
       "<style scoped>\n",
       "    .dataframe tbody tr th:only-of-type {\n",
       "        vertical-align: middle;\n",
       "    }\n",
       "\n",
       "    .dataframe tbody tr th {\n",
       "        vertical-align: top;\n",
       "    }\n",
       "\n",
       "    .dataframe thead th {\n",
       "        text-align: right;\n",
       "    }\n",
       "</style>\n",
       "<table border=\"1\" class=\"dataframe\">\n",
       "  <thead>\n",
       "    <tr style=\"text-align: right;\">\n",
       "      <th></th>\n",
       "      <th>PipeId</th>\n",
       "      <th>InspectionYear</th>\n",
       "      <th>MonthsLastRev</th>\n",
       "      <th>Severity</th>\n",
       "      <th>Incidence_x</th>\n",
       "      <th>YearBuilt</th>\n",
       "      <th>Diameter</th>\n",
       "      <th>Length</th>\n",
       "      <th>Pressure</th>\n",
       "      <th>NumConnections</th>\n",
       "      <th>NumConnectionsUnder</th>\n",
       "      <th>Incidence_y</th>\n",
       "    </tr>\n",
       "  </thead>\n",
       "  <tbody>\n",
       "    <tr>\n",
       "      <th>count</th>\n",
       "      <td>3.976947e+06</td>\n",
       "      <td>3.976947e+06</td>\n",
       "      <td>3.976947e+06</td>\n",
       "      <td>3.976947e+06</td>\n",
       "      <td>3.976947e+06</td>\n",
       "      <td>3.976947e+06</td>\n",
       "      <td>3.976947e+06</td>\n",
       "      <td>3.976947e+06</td>\n",
       "      <td>3.976947e+06</td>\n",
       "      <td>3.976947e+06</td>\n",
       "      <td>3.976947e+06</td>\n",
       "      <td>3.976947e+06</td>\n",
       "    </tr>\n",
       "    <tr>\n",
       "      <th>mean</th>\n",
       "      <td>2.016358e+08</td>\n",
       "      <td>2.015492e+03</td>\n",
       "      <td>2.312203e+01</td>\n",
       "      <td>3.997402e+00</td>\n",
       "      <td>1.943199e-03</td>\n",
       "      <td>2.000845e+03</td>\n",
       "      <td>1.202366e+02</td>\n",
       "      <td>3.768914e+01</td>\n",
       "      <td>2.676459e+00</td>\n",
       "      <td>1.034012e+00</td>\n",
       "      <td>2.039253e-04</td>\n",
       "      <td>1.949234e-03</td>\n",
       "    </tr>\n",
       "    <tr>\n",
       "      <th>std</th>\n",
       "      <td>1.128346e+08</td>\n",
       "      <td>2.842452e+00</td>\n",
       "      <td>4.233757e+00</td>\n",
       "      <td>6.517493e-02</td>\n",
       "      <td>4.403889e-02</td>\n",
       "      <td>1.201994e+01</td>\n",
       "      <td>5.724771e+01</td>\n",
       "      <td>7.189253e+01</td>\n",
       "      <td>5.789699e+00</td>\n",
       "      <td>2.203119e+00</td>\n",
       "      <td>1.524956e-02</td>\n",
       "      <td>4.410708e-02</td>\n",
       "    </tr>\n",
       "    <tr>\n",
       "      <th>min</th>\n",
       "      <td>4.897800e+05</td>\n",
       "      <td>2.010000e+03</td>\n",
       "      <td>0.000000e+00</td>\n",
       "      <td>1.000000e+00</td>\n",
       "      <td>0.000000e+00</td>\n",
       "      <td>1.901000e+03</td>\n",
       "      <td>1.000000e+01</td>\n",
       "      <td>6.000000e-03</td>\n",
       "      <td>2.500000e-02</td>\n",
       "      <td>0.000000e+00</td>\n",
       "      <td>0.000000e+00</td>\n",
       "      <td>0.000000e+00</td>\n",
       "    </tr>\n",
       "    <tr>\n",
       "      <th>25%</th>\n",
       "      <td>1.335387e+08</td>\n",
       "      <td>2.013000e+03</td>\n",
       "      <td>2.300000e+01</td>\n",
       "      <td>4.000000e+00</td>\n",
       "      <td>0.000000e+00</td>\n",
       "      <td>1.997000e+03</td>\n",
       "      <td>9.000000e+01</td>\n",
       "      <td>4.721000e+00</td>\n",
       "      <td>1.000000e-01</td>\n",
       "      <td>0.000000e+00</td>\n",
       "      <td>0.000000e+00</td>\n",
       "      <td>0.000000e+00</td>\n",
       "    </tr>\n",
       "    <tr>\n",
       "      <th>50%</th>\n",
       "      <td>1.902723e+08</td>\n",
       "      <td>2.015000e+03</td>\n",
       "      <td>2.400000e+01</td>\n",
       "      <td>4.000000e+00</td>\n",
       "      <td>0.000000e+00</td>\n",
       "      <td>2.003000e+03</td>\n",
       "      <td>1.100000e+02</td>\n",
       "      <td>1.543900e+01</td>\n",
       "      <td>1.500000e-01</td>\n",
       "      <td>0.000000e+00</td>\n",
       "      <td>0.000000e+00</td>\n",
       "      <td>0.000000e+00</td>\n",
       "    </tr>\n",
       "    <tr>\n",
       "      <th>75%</th>\n",
       "      <td>2.974200e+08</td>\n",
       "      <td>2.018000e+03</td>\n",
       "      <td>2.400000e+01</td>\n",
       "      <td>4.000000e+00</td>\n",
       "      <td>0.000000e+00</td>\n",
       "      <td>2.007000e+03</td>\n",
       "      <td>1.600000e+02</td>\n",
       "      <td>4.603400e+01</td>\n",
       "      <td>4.000000e+00</td>\n",
       "      <td>1.000000e+00</td>\n",
       "      <td>0.000000e+00</td>\n",
       "      <td>0.000000e+00</td>\n",
       "    </tr>\n",
       "    <tr>\n",
       "      <th>max</th>\n",
       "      <td>4.519953e+08</td>\n",
       "      <td>2.020000e+03</td>\n",
       "      <td>1.320000e+02</td>\n",
       "      <td>4.000000e+00</td>\n",
       "      <td>1.000000e+00</td>\n",
       "      <td>2.050000e+03</td>\n",
       "      <td>6.096000e+02</td>\n",
       "      <td>7.281373e+03</td>\n",
       "      <td>8.000000e+01</td>\n",
       "      <td>8.800000e+01</td>\n",
       "      <td>3.000000e+00</td>\n",
       "      <td>1.000000e+00</td>\n",
       "    </tr>\n",
       "  </tbody>\n",
       "</table>\n",
       "</div>"
      ],
      "text/plain": [
       "             PipeId  InspectionYear  MonthsLastRev      Severity  \\\n",
       "count  3.976947e+06    3.976947e+06   3.976947e+06  3.976947e+06   \n",
       "mean   2.016358e+08    2.015492e+03   2.312203e+01  3.997402e+00   \n",
       "std    1.128346e+08    2.842452e+00   4.233757e+00  6.517493e-02   \n",
       "min    4.897800e+05    2.010000e+03   0.000000e+00  1.000000e+00   \n",
       "25%    1.335387e+08    2.013000e+03   2.300000e+01  4.000000e+00   \n",
       "50%    1.902723e+08    2.015000e+03   2.400000e+01  4.000000e+00   \n",
       "75%    2.974200e+08    2.018000e+03   2.400000e+01  4.000000e+00   \n",
       "max    4.519953e+08    2.020000e+03   1.320000e+02  4.000000e+00   \n",
       "\n",
       "        Incidence_x     YearBuilt      Diameter        Length      Pressure  \\\n",
       "count  3.976947e+06  3.976947e+06  3.976947e+06  3.976947e+06  3.976947e+06   \n",
       "mean   1.943199e-03  2.000845e+03  1.202366e+02  3.768914e+01  2.676459e+00   \n",
       "std    4.403889e-02  1.201994e+01  5.724771e+01  7.189253e+01  5.789699e+00   \n",
       "min    0.000000e+00  1.901000e+03  1.000000e+01  6.000000e-03  2.500000e-02   \n",
       "25%    0.000000e+00  1.997000e+03  9.000000e+01  4.721000e+00  1.000000e-01   \n",
       "50%    0.000000e+00  2.003000e+03  1.100000e+02  1.543900e+01  1.500000e-01   \n",
       "75%    0.000000e+00  2.007000e+03  1.600000e+02  4.603400e+01  4.000000e+00   \n",
       "max    1.000000e+00  2.050000e+03  6.096000e+02  7.281373e+03  8.000000e+01   \n",
       "\n",
       "       NumConnections  NumConnectionsUnder   Incidence_y  \n",
       "count    3.976947e+06         3.976947e+06  3.976947e+06  \n",
       "mean     1.034012e+00         2.039253e-04  1.949234e-03  \n",
       "std      2.203119e+00         1.524956e-02  4.410708e-02  \n",
       "min      0.000000e+00         0.000000e+00  0.000000e+00  \n",
       "25%      0.000000e+00         0.000000e+00  0.000000e+00  \n",
       "50%      0.000000e+00         0.000000e+00  0.000000e+00  \n",
       "75%      1.000000e+00         0.000000e+00  0.000000e+00  \n",
       "max      8.800000e+01         3.000000e+00  1.000000e+00  "
      ]
     },
     "execution_count": 54,
     "metadata": {},
     "output_type": "execute_result"
    }
   ],
   "source": [
    "merged_df = pd.merge(insp, network, on='PipeId')\n",
    "final_df = pd.merge(merged_df, samplesub, on='PipeId')\n",
    "final_df.describe()"
   ]
  },
  {
   "cell_type": "code",
   "execution_count": 55,
   "metadata": {},
   "outputs": [
    {
     "name": "stderr",
     "output_type": "stream",
     "text": [
      "C:\\Users\\zonca\\AppData\\Local\\Temp\\ipykernel_11844\\3588651141.py:3: FutureWarning:\n",
      "\n",
      "The parsing of 'now' in pd.to_datetime without `utc=True` is deprecated. In a future version, this will match Timestamp('now') and Timestamp.now()\n",
      "\n"
     ]
    },
    {
     "data": {
      "image/png": "[encoded data removed]",
      "text/plain": [
       "<Figure size 640x480 with 1 Axes>"
      ]
     },
     "metadata": {},
     "output_type": "display_data"
    }
   ],
   "source": [
    "final_df = final_df.sort_values('InspectionDate')\n",
    "final_df['InspectionDate'] = pd.to_datetime(final_df['InspectionDate'])\n",
    "final_df['MonthsLastRev'] = (pd.to_datetime('now') - final_df['InspectionDate']) / pd.Timedelta(days=30)\n",
    "grouped_data = final_df.groupby('InspectionDate')['MonthsLastRev'].sum().reset_index()\n",
    "plt.plot(grouped_data['InspectionDate'], grouped_data['MonthsLastRev'])\n",
    "plt.xlabel('Inspection Date')\n",
    "plt.xticks(rotation=45, ha='right')\n",
    "plt.ylabel('Total Months Since Last Review')\n",
    "plt.show()"
   ]
  },
  {
   "cell_type": "code",
   "execution_count": 56,
   "metadata": {},
   "outputs": [
    {
     "name": "stderr",
     "output_type": "stream",
     "text": [
      "C:\\Users\\zonca\\AppData\\Local\\Temp\\ipykernel_11844\\2375973590.py:6: UserWarning:\n",
      "\n",
      "FixedFormatter should only be used together with FixedLocator\n",
      "\n"
     ]
    },
    {
     "data": {
      "image/png": "[encoded data removed]",
      "text/plain": [
       "<Figure size 2000x1125 with 1 Axes>"
      ]
     },
     "metadata": {},
     "output_type": "display_data"
    }
   ],
   "source": [
    "grouped_data = final_df.groupby('Province')['Incidence_x'].sum().reset_index()\n",
    "fig = plt.figure(figsize=(1920/96, 1080/96))\n",
    "ax = fig.add_subplot(111)\n",
    "ax.bar(grouped_data['Province'], grouped_data['Incidence_x'])\n",
    "ax.set_xlabel('Province')\n",
    "ax.set_xticklabels(grouped_data['Province'], rotation=45, ha='right')\n",
    "ax.set_ylabel('Incidence_x')\n",
    "plt.show()"
   ]
  },
  {
   "cell_type": "code",
   "execution_count": 57,
   "metadata": {},
   "outputs": [
    {
     "name": "stderr",
     "output_type": "stream",
     "text": [
      "C:\\Users\\zonca\\AppData\\Local\\Temp\\ipykernel_11844\\3319985792.py:1: FutureWarning:\n",
      "\n",
      "The default value of numeric_only in DataFrameGroupBy.sum is deprecated. In a future version, numeric_only will default to False. Either specify numeric_only or select only columns which should be valid for the function.\n",
      "\n"
     ]
    },
    {
     "data": {
      "image/png": "[encoded data removed]",
      "text/plain": [
       "<Figure size 640x480 with 1 Axes>"
      ]
     },
     "metadata": {},
     "output_type": "display_data"
    }
   ],
   "source": [
    "grouped_data = final_df.groupby(['GasType', 'Severity']).sum().reset_index()\n",
    "grouped_data = final_df.groupby(['GasType', 'Severity']).size().reset_index(name='count')\n",
    "pivoted_data = grouped_data.pivot(index='GasType', columns='Severity', values='count')\n",
    "pivoted_data.plot(kind='bar', stacked=True)\n",
    "plt.title('Severity per Gas Type')\n",
    "plt.xlabel('Gas Type')\n",
    "plt.ylabel('Count')\n",
    "plt.show()"
   ]
  },
  {
   "attachments": {},
   "cell_type": "markdown",
   "metadata": {},
   "source": [
    "# 2 Feature engineering"
   ]
  },
  {
   "attachments": {},
   "cell_type": "markdown",
   "metadata": {},
   "source": [
    "#### Here we will create the final dataframes that we will use to train our model, we will have 3 final datasets consisting of the whole training data (without target), the training target and the submission data for which we will generate the predictions, first we will start by importing the libraries, merging the different datasets between them and droping, renaming and generating new columns to obtain our desired outcome"
   ]
  },
  {
   "cell_type": "code",
   "execution_count": 58,
   "metadata": {},
   "outputs": [],
   "source": [
    "# READING THE DATA\n",
    "insp = pd.read_csv(\"inspections.csv\")\n",
    "network = pd.read_csv(\"network.csv\")\n",
    "samplesub = pd.read_csv(\"sample_submission.csv\")"
   ]
  },
  {
   "cell_type": "code",
   "execution_count": 59,
   "metadata": {},
   "outputs": [],
   "source": [
    "# INCORPORATING THE FEATURES IN NETWORK TO OUR SUBMISSION FILE\n",
    "samplesub = samplesub.merge(network, how=\"left\", on=\"PipeId\")"
   ]
  },
  {
   "cell_type": "code",
   "execution_count": 60,
   "metadata": {},
   "outputs": [],
   "source": [
    "# INCORPORATING THE FEATURES IN NETWORK TO OUR TRAINING DATA\n",
    "insp = insp.merge(network, how =\"inner\", on = \"PipeId\")"
   ]
  },
  {
   "cell_type": "code",
   "execution_count": 61,
   "metadata": {},
   "outputs": [],
   "source": [
    "# DROPPING UNNECESARY COLUMNS\n",
    "insp = insp.drop(\"InspectionDate\", axis=1)\n",
    "insp = insp.drop(\"MaintenanceId\", axis=1)"
   ]
  },
  {
   "cell_type": "code",
   "execution_count": 62,
   "metadata": {},
   "outputs": [],
   "source": [
    "# FEATURE CREATION\n",
    "insp[\"AgeWhenInspected\"] = insp[\"InspectionYear\"] - insp[\"YearBuilt\"]"
   ]
  },
  {
   "cell_type": "code",
   "execution_count": 63,
   "metadata": {},
   "outputs": [],
   "source": [
    "# DROPPING UNNECESARY COLUMNS\n",
    "insp_pure = insp.drop(columns=[\"Province\",\"Town\",\"YearBuilt\",\"Material\",\"GasType\",\"Diameter\",\"Length\",\"Pressure\",\"NumConnections\",\"NumConnectionsUnder\",\"BoolBridle\"])"
   ]
  },
  {
   "cell_type": "code",
   "execution_count": 64,
   "metadata": {},
   "outputs": [],
   "source": [
    "# FILTERING THE LAST INSPECTION\n",
    "latest_year_index = insp.groupby('PipeId')['InspectionYear'].idxmax()\n",
    "filtered_df = insp.loc[latest_year_index]"
   ]
  },
  {
   "cell_type": "code",
   "execution_count": 65,
   "metadata": {},
   "outputs": [],
   "source": [
    "# DROP TARGET COLUMN\n",
    "samplesub = samplesub.drop(\"Incidence\",axis=1)"
   ]
  },
  {
   "cell_type": "code",
   "execution_count": 66,
   "metadata": {},
   "outputs": [],
   "source": [
    "# DROP UNNECESARY COLUMNS\n",
    "insp = insp.drop(columns=[\"PipeId\",\"InspectionYear\"],axis=1)"
   ]
  },
  {
   "cell_type": "code",
   "execution_count": 67,
   "metadata": {},
   "outputs": [],
   "source": [
    "# GET NECESSARY COLS FROM OUR FILTERED DATA\n",
    "filtered_df = filtered_df[[\"PipeId\",\"InspectionYear\"]]"
   ]
  },
  {
   "cell_type": "code",
   "execution_count": 68,
   "metadata": {},
   "outputs": [],
   "source": [
    "# ADD THIS FEATURES TO OUR SUBMISSION FILE\n",
    "samplesub = samplesub.merge(filtered_df, how=\"left\", on=\"PipeId\")"
   ]
  },
  {
   "cell_type": "code",
   "execution_count": 69,
   "metadata": {},
   "outputs": [],
   "source": [
    "# RENAME\n",
    "samplesub = samplesub.rename(columns={\"InspectionYear\": \"PipeLastInspectionYear\"})"
   ]
  },
  {
   "cell_type": "code",
   "execution_count": 70,
   "metadata": {},
   "outputs": [],
   "source": [
    "# FEATURE CREATION\n",
    "samplesub[\"AgeWhenInspected\"] = samplesub[\"PipeLastInspectionYear\"] - samplesub[\"YearBuilt\"]"
   ]
  },
  {
   "cell_type": "code",
   "execution_count": 71,
   "metadata": {},
   "outputs": [],
   "source": [
    "# DROP UNNECESARY COLUMNS\n",
    "samplesub = samplesub.drop(\"PipeLastInspectionYear\",axis=1)"
   ]
  },
  {
   "cell_type": "code",
   "execution_count": 72,
   "metadata": {},
   "outputs": [],
   "source": [
    "# FILL MISSING WITH 0\n",
    "samplesub['AgeWhenInspected'] = samplesub['AgeWhenInspected'].fillna(0)"
   ]
  },
  {
   "cell_type": "code",
   "execution_count": 73,
   "metadata": {},
   "outputs": [],
   "source": [
    "# DROP UNNECESARY COLUMNS\n",
    "insp = insp.drop(columns=[\"MonthsLastRev\",\"Severity\"],axis=1)"
   ]
  },
  {
   "cell_type": "code",
   "execution_count": 74,
   "metadata": {},
   "outputs": [],
   "source": [
    "# COPY ON ANOTHER DATAFRAME\n",
    "data = insp"
   ]
  },
  {
   "cell_type": "code",
   "execution_count": 75,
   "metadata": {},
   "outputs": [],
   "source": [
    "# SET TARGET COLUMN\n",
    "data_y = data[\"Incidence\"]"
   ]
  },
  {
   "cell_type": "code",
   "execution_count": 76,
   "metadata": {},
   "outputs": [],
   "source": [
    "# DROP UNNECESARY COLUMNS\n",
    "data = data.drop(columns=\"Incidence\",axis=1)"
   ]
  },
  {
   "cell_type": "code",
   "execution_count": 77,
   "metadata": {},
   "outputs": [],
   "source": [
    "# COPY WITH ANOTHER NAME\n",
    "sub = samplesub"
   ]
  },
  {
   "cell_type": "code",
   "execution_count": 78,
   "metadata": {},
   "outputs": [],
   "source": [
    "# FEATURE CREATION\n",
    "sub[\"Volume\"] = ((3.14*(sub[\"Diameter\"]/2000))**2*sub[\"Length\"])\n",
    "sub[\"VolumestimesPressure\"] = sub[\"Volume\"]*sub[\"Pressure\"]\n",
    "sub[\"VolumesdivPressure\"] = sub[\"Volume\"]/sub[\"Pressure\"]\n",
    "sub[\"Presstimesage\"] = sub[\"Pressure\"]*sub[\"AgeWhenInspected\"]\n",
    "sub[\"SurfaceArea\"] = 2*3.1416*((sub[\"Diameter\"]/2)**2) +  2*3.1416*((sub[\"Diameter\"]/2)*sub[\"Length\"])\n",
    "sub[\"Circumference\"] = 2*3.1416*(sub[\"Diameter\"]/2)\n",
    "sub[\"PresstimesSurf\"] = sub[\"Pressure\"] * sub[\"SurfaceArea\"]\n",
    "sub[\"PresstimesCircumference\"] = sub[\"Pressure\"] * sub[\"Circumference\"] \n",
    "sub[\"AgesTimesLength\"] = sub[\"AgeWhenInspected\"] * sub[\"Length\"]\n",
    "sub[\"Connectionstimespressure\"] = sub[\"NumConnections\"] * sub[\"Pressure\"]\n",
    "sub[\"AgesTimesVol\"] = sub[\"AgeWhenInspected\"] * sub[\"Volume\"]\n",
    "sub[\"LenTimesDiameter\"] = sub[\"Length\"] * sub[\"Diameter\"]"
   ]
  },
  {
   "cell_type": "code",
   "execution_count": 79,
   "metadata": {},
   "outputs": [],
   "source": [
    "# FEATURE CREATION\n",
    "data[\"Volume\"] = ((3.14*(data[\"Diameter\"]/2000))**2*data[\"Length\"])\n",
    "data[\"VolumestimesPressure\"] = data[\"Volume\"]*data[\"Pressure\"]\n",
    "data[\"VolumesdivPressure\"] = data[\"Volume\"]/data[\"Pressure\"]\n",
    "data[\"Presstimesage\"] = data[\"Pressure\"]*data[\"AgeWhenInspected\"]\n",
    "data[\"SurfaceArea\"] = 2*3.1416*((data[\"Diameter\"]/2)**2) +  2*3.1416*((data[\"Diameter\"]/2)*data[\"Length\"])\n",
    "data[\"Circumference\"] = 2*3.1416*(data[\"Diameter\"]/2)\n",
    "data[\"PresstimesSurf\"] = data[\"Pressure\"] * data[\"SurfaceArea\"]\n",
    "data[\"PresstimesCircumference\"] = data[\"Pressure\"] * data[\"Circumference\"] \n",
    "data[\"AgesTimesLength\"] = data[\"AgeWhenInspected\"] * data[\"Length\"]\n",
    "data[\"Connectionstimespressure\"] = data[\"NumConnections\"] * data[\"Pressure\"]\n",
    "data[\"AgesTimesVol\"] = data[\"AgeWhenInspected\"] * data[\"Volume\"]\n",
    "data[\"LenTimesDiameter\"] = data[\"Length\"] * data[\"Diameter\"]"
   ]
  },
  {
   "cell_type": "code",
   "execution_count": 80,
   "metadata": {},
   "outputs": [],
   "source": [
    "# SAVE THE PREPROCESSED DATA TO DIFFERENT CSV FILES\n",
    "sub.to_csv(\"samplesubdefinitive.csv\",index=False)\n",
    "data.to_csv(\"datadefinitive.csv\",index=False)\n",
    "data_y.to_csv(\"data_ydefinitive.csv\",index=False)"
   ]
  },
  {
   "attachments": {},
   "cell_type": "markdown",
   "metadata": {},
   "source": [
    "# 3 Modeling"
   ]
  },
  {
   "attachments": {},
   "cell_type": "markdown",
   "metadata": {},
   "source": [
    "#### Here we will split the data into training and test(validation), and retouch the dataframes from the previous step to fit into our model, after trying different models we obtained the best results using XGBoost, for which we can find the best parameters using Optuna, then we will fit the model with the desired parameters and predict the probabilities of our final submission file"
   ]
  },
  {
   "cell_type": "code",
   "execution_count": 81,
   "metadata": {},
   "outputs": [],
   "source": [
    "#READ THE DATA\n",
    "data = pd.read_csv(\"datadefinitive.csv\")\n",
    "data_y = pd.read_csv(\"data_ydefinitive.csv\")\n",
    "sub = pd.read_csv(\"samplesubdefinitive.csv\")"
   ]
  },
  {
   "cell_type": "code",
   "execution_count": 82,
   "metadata": {},
   "outputs": [],
   "source": [
    "#TRANSFORM CATEGORICAL COLUMNS TO CATEGORY DATA TYPE\n",
    "categorical_cols = [\"Province\",\"Town\",\"Material\",\"GasType\",\"BoolBridle\"]\n",
    "sub[categorical_cols] = sub[categorical_cols].astype('category')\n",
    "data[categorical_cols] = data[categorical_cols].astype('category')"
   ]
  },
  {
   "cell_type": "code",
   "execution_count": 83,
   "metadata": {},
   "outputs": [],
   "source": [
    "#SET PIPEID AS THE INDEX\n",
    "sub = sub.set_index(\"PipeId\")"
   ]
  },
  {
   "cell_type": "code",
   "execution_count": 84,
   "metadata": {},
   "outputs": [],
   "source": [
    "#TRAIN TEST SPLIT\n",
    "X_train, X_test, y_train, y_test = train_test_split(data, data_y, test_size=0.1)"
   ]
  },
  {
   "cell_type": "code",
   "execution_count": 85,
   "metadata": {},
   "outputs": [],
   "source": [
    "#GROUP TOGETHER THE TRAINING DATA\n",
    "fulltrain = pd.concat([X_train,y_train],axis=1)"
   ]
  },
  {
   "cell_type": "code",
   "execution_count": 86,
   "metadata": {},
   "outputs": [],
   "source": [
    "#PERFORM RANDOM UNDERSAMPLING\n",
    "df = fulltrain.sample(frac=1)\n",
    "incidence_df = fulltrain.loc[fulltrain['Incidence'] == 1]\n",
    "non_incidence_df = fulltrain.loc[fulltrain['Incidence'] == 0][:11071]\n",
    "normal_distributed_df = pd.concat([incidence_df, non_incidence_df])\n",
    "new_df = normal_distributed_df.sample(frac=1, random_state=97)"
   ]
  },
  {
   "cell_type": "code",
   "execution_count": 87,
   "metadata": {},
   "outputs": [],
   "source": [
    "#DEFINE TARGET AND DATAFRAME\n",
    "new_df_y = new_df[\"Incidence\"]\n",
    "new_df_X = new_df.drop(columns=\"Incidence\",axis=1)\n",
    "numerical_cols = new_df_X.select_dtypes(include=['int', 'float']).columns"
   ]
  },
  {
   "cell_type": "code",
   "execution_count": 88,
   "metadata": {},
   "outputs": [],
   "source": [
    "#USING OPTUNA TO GET THE BEST PARAMS\n",
    "def objective(trial):\n",
    "    # Define the hyperparameters to search over\n",
    "    params = {\n",
    "        'n_estimators': trial.suggest_int('n_estimators', 50, 1000, step=50),\n",
    "        'max_depth': trial.suggest_int('max_depth', 2, 10),\n",
    "        'learning_rate': trial.suggest_float('learning_rate', 0.001, 0.1),\n",
    "        'subsample': trial.suggest_float('subsample', 0.5, 1.0),\n",
    "        'colsample_bytree': trial.suggest_float('colsample_bytree', 0.5, 1.0),\n",
    "        'gamma': trial.suggest_float('gamma', 0, 10),\n",
    "        'min_child_weight': trial.suggest_int('min_child_weight', 1, 10),\n",
    "        \"enable_categorical\":True,\n",
    "        \"tree_method\":\"gpu_hist\"\n",
    "    }\n",
    "    \n",
    "    # Train an XGBoost classifier with the specified hyperparameters\n",
    "    clf = xgb.XGBClassifier(**params)\n",
    "    clf.fit(new_df_X, new_df_y)\n",
    "    \n",
    "    # Calculate the auc on the test set\n",
    "    y_pred = clf.predict(X_test)\n",
    "    auc_res = roc_auc_score(y_test, y_pred)\n",
    "    \n",
    "    # Return the accuracy as the objective value for Optuna to optimize\n",
    "    return auc_res\n",
    "\n",
    "\n",
    "# Use Optuna to search for the best hyperparameters\n",
    "study = optuna.create_study(direction='maximize')\n",
    "study.optimize(objective, n_trials=300)\n",
    "\n",
    "# Print the best hyperparameters found by Optuna\n",
    "print(f'Best parameters: {study.best_params}')\n",
    "print(f'Best auc: {study.best_value:.3f}')\n"
   ]
  },
  {
   "cell_type": "code",
   "execution_count": 89,
   "metadata": {},
   "outputs": [
    {
     "data": {
      "text/plain": [
       "XGBClassifier(base_score=0.5, booster='gbtree', callbacks=None,\n",
       "              colsample_bylevel=1, colsample_bynode=1,\n",
       "              colsample_bytree=0.632414015040246, early_stopping_rounds=None,\n",
       "              enable_categorical=True, eval_metric=None, feature_types=None,\n",
       "              gamma=1.6495326364643785, gpu_id=0, grow_policy='depthwise',\n",
       "              importance_type=None, interaction_constraints='',\n",
       "              learning_rate=0.01707958992187511, max_bin=256,\n",
       "              max_cat_threshold=64, max_cat_to_onehot=4, max_delta_step=0,\n",
       "              max_depth=9, max_leaves=0, min_child_weight=8, missing=nan,\n",
       "              monotone_constraints='()', n_estimators=800, n_jobs=0,\n",
       "              num_parallel_tree=1, predictor='auto', random_state=0, ...)"
      ]
     },
     "execution_count": 89,
     "metadata": {},
     "output_type": "execute_result"
    }
   ],
   "source": [
    "# TRAIN A XGBClassifier with the best parameters\n",
    "my_model = XGBClassifier(n_estimators= 800, max_depth= 9, learning_rate= 0.01707958992187511, subsample= 0.7710060008763321, colsample_bytree= 0.632414015040246, gamma= 1.6495326364643785, min_child_weight=8 ,enable_categorical=True,tree_method=\"gpu_hist\")\n",
    "my_model.fit(new_df_X, new_df_y)"
   ]
  },
  {
   "cell_type": "code",
   "execution_count": 90,
   "metadata": {},
   "outputs": [
    {
     "data": {
      "text/plain": [
       "<AxesSubplot:title={'center':'Feature importance'}, xlabel='F score', ylabel='Features'>"
      ]
     },
     "execution_count": 90,
     "metadata": {},
     "output_type": "execute_result"
    },
    {
     "data": {
      "image/png": "[encoded data removed]",
      "text/plain": [
       "<Figure size 640x480 with 1 Axes>"
      ]
     },
     "metadata": {},
     "output_type": "display_data"
    }
   ],
   "source": [
    "# PLOT THE IMPORTANCE\n",
    "plot_importance(my_model)"
   ]
  },
  {
   "cell_type": "code",
   "execution_count": 91,
   "metadata": {},
   "outputs": [],
   "source": [
    "# PREDICT PROBABILITIES AND SAVE FINAL SUBMISSION FILE\n",
    "results_1 = my_model.predict_proba(sub)\n",
    "results1df = pd.DataFrame(results_1[:,1])\n",
    "ids = list(sub.index.values)  \n",
    "results1df.index = ids\n",
    "results1df.rename(columns={results1df.columns[0]:'Incidence'}, inplace=True)\n",
    "results1df\n",
    "results1df.to_csv(\"LASTSUB.csv\", index=True)"
   ]
  }
 ],
 "metadata": {
  "kernelspec": {
   "display_name": "base",
   "language": "python",
   "name": "python3"
  },
  "language_info": {
   "codemirror_mode": {
    "name": "ipython",
    "version": 3
   },
   "file_extension": ".py",
   "mimetype": "text/x-python",
   "name": "python",
   "nbconvert_exporter": "python",
   "pygments_lexer": "ipython3",
   "version": "3.9.13"
  },
  "orig_nbformat": 4,
  "vscode": {
   "interpreter": {
    "hash": "018e464278d599a767de9ce1d65d51d5c7ee49522b795dea7dc31dafdfeec7ab"
   }
  }
 },
 "nbformat": 4,
 "nbformat_minor": 2
}
